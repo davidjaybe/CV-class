{
 "cells": [
  {
   "cell_type": "markdown",
   "id": "68d92277-717a-4eed-828d-56e878c2db71",
   "metadata": {
    "slideshow": {
     "slide_type": "slide"
    },
    "user_expressions": []
   },
   "source": [
    "# Dillinger\n",
    "## _The Last Markdown Editor, Ever_"
   ]
  },
  {
   "cell_type": "markdown",
   "id": "5c7d5034-60b9-4399-8405-89eb948b5b90",
   "metadata": {
    "slideshow": {
     "slide_type": "fragment"
    },
    "user_expressions": []
   },
   "source": [
    "[![N|Solid](https://cldup.com/dTxpPi9lDf.thumb.png)](https://nodesource.com/products/nsolid)"
   ]
  },
  {
   "cell_type": "markdown",
   "id": "8ab1a1e7-f665-4dcd-bd49-e0b7561a7fea",
   "metadata": {
    "slideshow": {
     "slide_type": "fragment"
    },
    "user_expressions": []
   },
   "source": [
    "[![Build Status](https://travis-ci.org/joemccann/dillinger.svg?branch=master)](https://travis-ci.org/joemccann/dillinger)"
   ]
  },
  {
   "cell_type": "markdown",
   "id": "93615cd9-4dc5-4c03-99da-34cd4e0cdc83",
   "metadata": {
    "slideshow": {
     "slide_type": "subslide"
    },
    "user_expressions": []
   },
   "source": [
    "Dillinger is a cloud-enabled, mobile-ready, offline-storage compatible,\n",
    "AngularJS-powered HTML5 Markdown editor."
   ]
  },
  {
   "cell_type": "markdown",
   "id": "ac676e2c-3fe7-4af8-b2c3-37480e429f1d",
   "metadata": {
    "slideshow": {
     "slide_type": "subslide"
    },
    "user_expressions": []
   },
   "source": [
    "- Type some Markdown on the left"
   ]
  },
  {
   "cell_type": "markdown",
   "id": "b63a1345-b7bf-4a1c-a01c-448b58184776",
   "metadata": {
    "slideshow": {
     "slide_type": "subslide"
    },
    "user_expressions": []
   },
   "source": [
    "- See HTML in the right"
   ]
  },
  {
   "cell_type": "markdown",
   "id": "8971643f-d2da-4f20-84b0-fb8e6724dd58",
   "metadata": {
    "slideshow": {
     "slide_type": "subslide"
    },
    "user_expressions": []
   },
   "source": [
    "- ✨Magic ✨"
   ]
  },
  {
   "cell_type": "markdown",
   "id": "f8b00fde-c03a-48d4-867b-6b542662754e",
   "metadata": {
    "slideshow": {
     "slide_type": "slide"
    },
    "user_expressions": []
   },
   "source": [
    "## Features\n",
    "\n",
    "- Import a HTML file and watch it magically convert to Markdown\n",
    "- Drag and drop images (requires your Dropbox account be linked)\n",
    "- Import and save files from GitHub, Dropbox, Google Drive and One Drive\n",
    "- Drag and drop markdown and HTML files into Dillinger\n",
    "- Export documents as Markdown, HTML and PDF"
   ]
  },
  {
   "cell_type": "markdown",
   "id": "5b5f385e-4b00-4496-8c4c-f3a6dcb3b2d1",
   "metadata": {
    "slideshow": {
     "slide_type": "slide"
    },
    "user_expressions": []
   },
   "source": [
    "Markdown is a lightweight markup language based on the formatting conventions\n",
    "that people naturally use in email.\n",
    "As [John Gruber] writes on the [Markdown site][df1]\n",
    "\n",
    "> The overriding design goal for Markdown's\n",
    "> formatting syntax is to make it as readable\n",
    "> as possible. The idea is that a\n",
    "> Markdown-formatted document should be\n",
    "> publishable as-is, as plain text, without\n",
    "> looking like it's been marked up with tags\n",
    "> or formatting instructions.\n",
    "\n",
    "This text you see here is *actually- written in Markdown! To get a feel\n",
    "for Markdown's syntax, type some text into the left window and\n",
    "watch the results in the right."
   ]
  },
  {
   "cell_type": "markdown",
   "id": "010d3ca6",
   "metadata": {
    "slideshow": {
     "slide_type": "slide"
    },
    "user_expressions": []
   },
   "source": [
    "## Tech\n",
    "\n",
    "Dillinger uses a number of open source projects to work properly:\n",
    "\n",
    "- [AngularJS] - HTML enhanced for web apps!\n",
    "- [Ace Editor] - awesome web-based text editor\n",
    "- [markdown-it] - Markdown parser done right. Fast and easy to extend.\n",
    "- [Twitter Bootstrap] - great UI boilerplate for modern web apps\n",
    "- [node.js] - evented I/O for the backend\n",
    "- [Express] - fast node.js network app framework [@tjholowaychuk]\n",
    "- [Gulp] - the streaming build system\n",
    "- [Breakdance](https://breakdance.github.io/breakdance/) - HTML\n",
    "to Markdown converter\n",
    "- [jQuery] - duh\n",
    "\n",
    "And of course Dillinger itself is open source with a [public repository][dill]\n",
    " on GitHub."
   ]
  },
  {
   "cell_type": "markdown",
   "id": "c64d9dfb",
   "metadata": {
    "slideshow": {
     "slide_type": "slide"
    },
    "user_expressions": []
   },
   "source": [
    "## Installation\n",
    "\n",
    "Dillinger requires [Node.js](https://nodejs.org/) v10+ to run.\n",
    "\n",
    "Install the dependencies and devDependencies and start the server.\n",
    "\n",
    "```sh\n",
    "cd dillinger\n",
    "npm i\n",
    "node app\n",
    "```\n",
    "\n",
    "For production environments...\n",
    "\n",
    "```sh\n",
    "npm install --production\n",
    "NODE_ENV=production node app\n",
    "```"
   ]
  },
  {
   "cell_type": "markdown",
   "id": "05b22886",
   "metadata": {
    "slideshow": {
     "slide_type": "slide"
    },
    "user_expressions": []
   },
   "source": [
    "## Plugins\n",
    "\n",
    "Dillinger is currently extended with the following plugins.\n",
    "Instructions on how to use them in your own application are linked below.\n",
    "\n",
    "| Plugin | README |\n",
    "| ------ | ------ |\n",
    "| Dropbox | [plugins/dropbox/README.md][PlDb] |\n",
    "| GitHub | [plugins/github/README.md][PlGh] |\n",
    "| Google Drive | [plugins/googledrive/README.md][PlGd] |\n",
    "| OneDrive | [plugins/onedrive/README.md][PlOd] |\n",
    "| Medium | [plugins/medium/README.md][PlMe] |\n",
    "| Google Analytics | [plugins/googleanalytics/README.md][PlGa] |"
   ]
  },
  {
   "cell_type": "markdown",
   "id": "87d7ce6f",
   "metadata": {
    "slideshow": {
     "slide_type": "slide"
    },
    "user_expressions": []
   },
   "source": [
    "## Development\n",
    "\n",
    "Want to contribute? Great!\n",
    "\n",
    "Dillinger uses Gulp + Webpack for fast developing.\n",
    "Make a change in your file and instantaneously see your updates!\n",
    "\n",
    "Open your favorite Terminal and run these commands.\n",
    "\n",
    "First Tab:\n",
    "\n",
    "```sh\n",
    "node app\n",
    "```\n",
    "\n",
    "Second Tab:\n",
    "\n",
    "```sh\n",
    "gulp watch\n",
    "```\n",
    "\n",
    "(optional) Third:\n",
    "\n",
    "```sh\n",
    "karma test\n",
    "```"
   ]
  },
  {
   "cell_type": "markdown",
   "id": "16a7ad38",
   "metadata": {
    "slideshow": {
     "slide_type": "slide"
    },
    "user_expressions": []
   },
   "source": [
    "#### Building for source\n",
    "\n",
    "For production release:\n",
    "\n",
    "```sh\n",
    "gulp build --prod\n",
    "```\n",
    "\n",
    "Generating pre-built zip archives for distribution:\n",
    "\n",
    "```sh\n",
    "gulp build dist --prod\n",
    "```"
   ]
  },
  {
   "cell_type": "markdown",
   "id": "6fe08ef5-9d80-4099-a276-69d78453a3df",
   "metadata": {
    "slideshow": {
     "slide_type": "slide"
    },
    "user_expressions": []
   },
   "source": [
    "## Docker\n",
    "\n",
    "Dillinger is very easy to install and deploy in a Docker container.\n",
    "\n",
    "By default, the Docker will expose port 8080, so change this within the\n",
    "Dockerfile if necessary. When ready, simply use the Dockerfile to\n",
    "build the image.\n",
    "\n",
    "```sh\n",
    "cd dillinger\n",
    "docker build -t <youruser>/dillinger:${package.json.version} .\n",
    "```\n",
    "\n",
    "This will create the dillinger image and pull in the necessary dependencies.\n",
    "Be sure to swap out `${package.json.version}` with the actual\n",
    "version of Dillinger.\n",
    "\n",
    "Once done, run the Docker image and map the port to whatever you wish on\n",
    "your host. In this example, we simply map port 8000 of the host to\n",
    "port 8080 of the Docker (or whatever port was exposed in the Dockerfile):\n",
    "\n",
    "```sh\n",
    "docker run -d -p 8000:8080 --restart=always --cap-add=SYS_ADMIN --name=dillinger <youruser>/dillinger:${package.json.version}\n",
    "```\n",
    "\n",
    "> Note: `--capt-add=SYS-ADMIN` is required for PDF rendering.\n",
    "\n",
    "Verify the deployment by navigating to your server address in\n",
    "your preferred browser.\n",
    "\n",
    "```sh\n",
    "127.0.0.1:8000\n",
    "```\n",
    "\n",
    "## License\n",
    "\n",
    "MIT\n",
    "\n",
    "**Free Software, Hell Yeah!**\n",
    "\n",
    "[//]: # (These are reference links used in the body of this note and get stripped out when the markdown processor does its job. There is no need to format nicely because it shouldn't be seen. Thanks SO - http://stackoverflow.com/questions/4823468/store-comments-in-markdown-syntax)\n",
    "\n",
    "   [dill]: <https://github.com/joemccann/dillinger>\n",
    "   [git-repo-url]: <https://github.com/joemccann/dillinger.git>\n",
    "   [john gruber]: <http://daringfireball.net>\n",
    "   [df1]: <http://daringfireball.net/projects/markdown/>\n",
    "   [markdown-it]: <https://github.com/markdown-it/markdown-it>\n",
    "   [Ace Editor]: <http://ace.ajax.org>\n",
    "   [node.js]: <http://nodejs.org>\n",
    "   [Twitter Bootstrap]: <http://twitter.github.com/bootstrap/>\n",
    "   [jQuery]: <http://jquery.com>\n",
    "   [@tjholowaychuk]: <http://twitter.com/tjholowaychuk>\n",
    "   [express]: <http://expressjs.com>\n",
    "   [AngularJS]: <http://angularjs.org>\n",
    "   [Gulp]: <http://gulpjs.com>\n",
    "\n",
    "   [PlDb]: <https://github.com/joemccann/dillinger/tree/master/plugins/dropbox/README.md>\n",
    "   [PlGh]: <https://github.com/joemccann/dillinger/tree/master/plugins/github/README.md>\n",
    "   [PlGd]: <https://github.com/joemccann/dillinger/tree/master/plugins/googledrive/README.md>\n",
    "   [PlOd]: <https://github.com/joemccann/dillinger/tree/master/plugins/onedrive/README.md>\n",
    "   [PlMe]: <https://github.com/joemccann/dillinger/tree/master/plugins/medium/README.md>\n",
    "   [PlGa]: <https://github.com/RahulHP/dillinger/blob/master/plugins/googleanalytics/README.md>"
   ]
  },
  {
   "cell_type": "markdown",
   "id": "e490e49b-4048-4b07-b02d-2d8830d4e5d3",
   "metadata": {
    "slideshow": {
     "slide_type": "skip"
    }
   },
   "source": []
  },
  {
   "cell_type": "markdown",
   "id": "056ee123-4e57-45d7-b3b3-db6df0a053a8",
   "metadata": {
    "slideshow": {
     "slide_type": "skip"
    }
   },
   "source": []
  },
  {
   "cell_type": "code",
   "execution_count": null,
   "id": "08b1f4f3-311c-4b6f-af3c-452245033e25",
   "metadata": {
    "slideshow": {
     "slide_type": "skip"
    }
   },
   "outputs": [],
   "source": []
  },
  {
   "cell_type": "code",
   "execution_count": null,
   "id": "04cc0e5a",
   "metadata": {
    "slideshow": {
     "slide_type": "skip"
    }
   },
   "outputs": [],
   "source": []
  },
  {
   "cell_type": "code",
   "execution_count": null,
   "id": "6136233e",
   "metadata": {
    "slideshow": {
     "slide_type": "skip"
    }
   },
   "outputs": [],
   "source": []
  }
 ],
 "metadata": {
  "celltoolbar": "Slideshow",
  "kernelspec": {
   "display_name": "Python 3 (ipykernel)",
   "language": "python",
   "name": "python3"
  },
  "language_info": {
   "codemirror_mode": {
    "name": "ipython",
    "version": 3
   },
   "file_extension": ".py",
   "mimetype": "text/x-python",
   "name": "python",
   "nbconvert_exporter": "python",
   "pygments_lexer": "ipython3",
   "version": "3.9.13"
  }
 },
 "nbformat": 4,
 "nbformat_minor": 5
}
